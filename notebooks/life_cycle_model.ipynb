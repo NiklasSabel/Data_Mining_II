{
 "cells": [
  {
   "cell_type": "code",
   "execution_count": 1,
   "id": "6881f1d6",
   "metadata": {},
   "outputs": [],
   "source": [
    "import numpy as np\n",
    "import pandas as pd\n",
    "import matplotlib.pyplot as plt\n",
    "from tqdm import tqdm\n",
    "\n",
    "from datetime import datetime, timedelta"
   ]
  },
  {
   "cell_type": "code",
   "execution_count": 2,
   "id": "7c5a4aa9",
   "metadata": {},
   "outputs": [],
   "source": [
    "PATH_ILIAS = '../01_ilias'\n",
    "ORDERS_BEFORE_DEC = PATH_ILIAS + '/orders_before_dec.csv'\n",
    "TARGET_DEC = PATH_ILIAS + '/gold_dec.csv'\n",
    "SUBMISSION_DEC = PATH_ILIAS + '/submission_dec.csv'\n",
    "\n",
    "ORDERS_BEFORE_JAN = PATH_ILIAS + '/orders_before_jan.csv'\n",
    "TARGET_JAN = PATH_ILIAS + '/gold_jan.csv'\n",
    "SUBMISSION_JAN = PATH_ILIAS + '/submission_jan.csv'"
   ]
  },
  {
   "cell_type": "code",
   "execution_count": 3,
   "id": "fe5adcc9",
   "metadata": {},
   "outputs": [],
   "source": [
    "string_cols = ['userID', 'itemID']\n",
    "\n",
    "dict_dtypes = {x : 'str'  for x in string_cols}\n",
    "\n",
    "before_dec = pd.read_csv(ORDERS_BEFORE_DEC, sep='|',  parse_dates=[\"date\"])\n",
    "target_dec = pd.read_csv(TARGET_DEC, sep='|')\n",
    "submission_dec = pd.read_csv(SUBMISSION_DEC, sep='|')\n",
    "\n",
    "before_jan = pd.read_csv(ORDERS_BEFORE_JAN, sep='|',  parse_dates=[\"date\"])\n",
    "target_jan = pd.read_csv(TARGET_JAN, sep='|')\n",
    "submission_jan = pd.read_csv(SUBMISSION_JAN, sep='|')"
   ]
  },
  {
   "cell_type": "code",
   "execution_count": 4,
   "id": "e8cac514",
   "metadata": {},
   "outputs": [],
   "source": [
    "def generate_days_since_last_purchase_feature(X_train):\n",
    "    data =[]\n",
    "    X_train = X_train.sort_values(by=['itemID', 'userID'])\n",
    "    itemIDs = X_train[\"itemID\"].unique()\n",
    "    for itemID in tqdm(itemIDs):\n",
    "        idx_x = 0\n",
    "        idx_y = 0\n",
    "        # user_partition of all items with this ID \n",
    "        user_partition = X_train[X_train[\"itemID\"] == itemID]\n",
    "        userIDs = user_partition[\"userID\"].unique()\n",
    "        life_cycles_per_item = []\n",
    "        for userID in userIDs:\n",
    "            # count occurences of this combination for partitioning\n",
    "            occurences_of_combi = len(user_partition[user_partition[\"userID\"] == userID])\n",
    "            # calculate index end of partition\n",
    "            idx_y += occurences_of_combi\n",
    "            item_user_partition = user_partition[idx_x:idx_y]\n",
    "            cycle_per_user = calculate_average_life_cycle_per_replenishment(item_user_partition)\n",
    "            idx_x += occurences_of_combi\n",
    "            data.append(cycle_per_user)\n",
    "    return data"
   ]
  },
  {
   "cell_type": "code",
   "execution_count": 5,
   "id": "694c7d4b",
   "metadata": {},
   "outputs": [],
   "source": [
    "def collect_life_cycle_over_target_items(X_train, y_test):\n",
    "    data =[]\n",
    "    X_train = X_train.sort_values(by=['itemID', 'userID'])\n",
    "    y_test = y_test.sort_values(by=['itemID', 'userID'])\n",
    "    itemIDs = X_train[\"itemID\"].unique()\n",
    "    itemIDs_target = y_test[\"itemID\"].unique()\n",
    "    for itemID in tqdm(itemIDs):\n",
    "        if not itemID in itemIDs_target:\n",
    "            continue\n",
    "        user_partition = X_train[X_train[\"itemID\"] == itemID]\n",
    "        intervals = user_partition['days_since_last_purchase'].dropna()\n",
    "        mean_life_cycle_per_item = intervals.mean()\n",
    "        results = np.hstack([itemID, mean_life_cycle_per_item])\n",
    "        data.append(results)\n",
    "    return data"
   ]
  },
  {
   "cell_type": "code",
   "execution_count": 6,
   "id": "94ea513f",
   "metadata": {},
   "outputs": [],
   "source": [
    "def calculate_average_life_cycle_per_replenishment(partition):\n",
    "    N = partition.shape[0]\n",
    "    result = np.zeros((N , 5))\n",
    "    diff = partition[\"date\"].diff().dt.days.to_numpy()[1:]\n",
    "    amount = partition[\"order\"][:-1].to_numpy()\n",
    "    temp = diff / amount\n",
    "    temp = np.r_[np.nan, temp]\n",
    "    temp = temp.reshape((N,1))\n",
    "    result = np.hstack((partition, temp))\n",
    "    return result"
   ]
  },
  {
   "cell_type": "code",
   "execution_count": 7,
   "id": "c3e33a84",
   "metadata": {},
   "outputs": [],
   "source": [
    "def train(X_train, y_test):\n",
    "    jan_av = generate_days_since_last_purchase_feature(X_train)\n",
    "    temp = np.concatenate(jan_av).ravel()\n",
    "    df_av = pd.DataFrame(data=temp.reshape(-1, 5), columns=['date', 'userID', 'itemID', 'order', 'days_since_last_purchase'])\n",
    "    # save df if necessary\n",
    "    # df_av.to_csv('before_dec_with_intervals.csv', sep='|')\n",
    "    item_life_cycle_mapping = collect_life_cycle_over_target_items(df_av, y_test)\n",
    "    mapp = np.concatenate(item_life_cycle_mapping).ravel()\n",
    "    mapp=mapp.reshape(-1, 2)\n",
    "    df_mapping = pd.DataFrame(data=mapp, columns= ['itemID', 'days_average'])\n",
    "    return df_mapping"
   ]
  },
  {
   "cell_type": "code",
   "execution_count": 8,
   "id": "6aa48950",
   "metadata": {},
   "outputs": [],
   "source": [
    "START_PRED_DATE = datetime(2020,12,1)\n",
    "\n",
    "def predict(X, y, averages):\n",
    "    N = y.shape[0]\n",
    "    y_np = y.to_numpy()\n",
    "    for i in tqdm(range(N)):\n",
    "        userID = y_np[i][0]\n",
    "        itemID = y_np[i][1]\n",
    "        user_partition = X[X['userID']== userID]\n",
    "        items = user_partition[user_partition['itemID']== itemID]\n",
    "        it = items.sort_values(by=['date'], ascending=False).iloc[0]\n",
    "        average_to_add = averages[averages['itemID']== itemID]['days_average']\n",
    "        if not np.isnan(average_to_add.iloc[0]):\n",
    "            delta = average_to_add.iloc[0] * it['order']\n",
    "        else:\n",
    "            delta = 0\n",
    "        new_purchase_date = it['date'] + timedelta(days=delta)\n",
    "        daysDif = (new_purchase_date - START_PRED_DATE).days\n",
    "        pred_week = daysDif // 7 + 1\n",
    "        if pred_week > 4:\n",
    "            pred_week = 0\n",
    "        elif pred_week < 0:\n",
    "            pred_week = 1\n",
    "        y_np[i][2] = pred_week\n",
    "    columns = y.columns\n",
    "    pred = pd.DataFrame(data=y_np, columns=columns)\n",
    "    return pred"
   ]
  },
  {
   "cell_type": "code",
   "execution_count": 9,
   "id": "616f5f63",
   "metadata": {},
   "outputs": [],
   "source": [
    "def count_points(pred, gold):\n",
    "    df = pd.merge(pred, gold, on=[\"userID\", \"itemID\"], suffixes=(\"_pred\", \"_gold\"))\n",
    "    df[\"points\"] = df.apply(_compute_points_for_row, axis=1)\n",
    "    return df[\"points\"].sum()\n",
    "\n",
    "def _compute_points_for_row(row):\n",
    "    y_pred, y_gold = row.prediction_pred, row.prediction_gold\n",
    "    if y_pred == y_gold:\n",
    "        # one point if \"no order\" (0) is predicted correctly; three points if order week is predicted correctly\n",
    "        return 1 if y_pred == 0 else 3\n",
    "    # one point if order is predicted correctly (but not the correct week), otherwise zero points\n",
    "    return 1 if (y_pred > 0 and y_gold > 0) else 0\n",
    "\n",
    "def get_score(pred, gold):\n",
    "    points = count_points(pred, gold)\n",
    "    max_points = count_points(gold, gold)\n",
    "    score = points / max_points\n",
    "    return score"
   ]
  },
  {
   "cell_type": "code",
   "execution_count": 10,
   "id": "a4583456",
   "metadata": {},
   "outputs": [],
   "source": [
    "def _run_(X_train, y_target, y_submission):\n",
    "    model = train(X_train, y_submission)\n",
    "    prediction = predict(X_train, y_submission, model)\n",
    "    # save prediction if necessary\n",
    "    #prediction.to_csv('prediction_jan.csv', sep='|')\n",
    "    print(get_score(prediction, y_target))"
   ]
  },
  {
   "cell_type": "code",
   "execution_count": 11,
   "id": "2911c9e4",
   "metadata": {},
   "outputs": [
    {
     "name": "stderr",
     "output_type": "stream",
     "text": [
      "100%|██████████████████████████████████████████████████████████████████████████| 29043/29043 [00:08<00:00, 3321.44it/s]\n",
      "100%|█████████████████████████████████████████████████████████████████████████████| 9745/9745 [00:41<00:00, 233.77it/s]\n"
     ]
    },
    {
     "name": "stdout",
     "output_type": "stream",
     "text": [
      "0.4143324412726732\n"
     ]
    }
   ],
   "source": [
    "_run_(before_dec, target_dec, submission_dec)"
   ]
  }
 ],
 "metadata": {
  "kernelspec": {
   "display_name": "Python 3",
   "language": "python",
   "name": "python3"
  },
  "language_info": {
   "codemirror_mode": {
    "name": "ipython",
    "version": 3
   },
   "file_extension": ".py",
   "mimetype": "text/x-python",
   "name": "python",
   "nbconvert_exporter": "python",
   "pygments_lexer": "ipython3",
   "version": "3.8.8"
  }
 },
 "nbformat": 4,
 "nbformat_minor": 5
}
